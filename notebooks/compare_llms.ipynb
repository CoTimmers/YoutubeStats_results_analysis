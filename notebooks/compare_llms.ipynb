{
 "cells": [
  {
   "cell_type": "markdown",
   "id": "c4e8b9a2",
   "metadata": {},
   "source": [
    "# Imports"
   ]
  },
  {
   "cell_type": "code",
   "execution_count": 1,
   "id": "2f6a586d",
   "metadata": {},
   "outputs": [],
   "source": [
    "import sys\n",
    "sys.path.insert(0, '..')\n",
    "import os\n",
    "import time\n",
    "from dotenv import load_dotenv\n",
    "\n",
    "import math\n",
    "import pandas as pd\n",
    "import requests\n",
    "from tqdm import tqdm\n",
    "from pydantic import BaseModel\n",
    "from pydantic import BaseModel, Field, ValidationError\n",
    "from typing import Optional, List, Callable, Tuple\n",
    "from langchain_openai import ChatOpenAI\n",
    "\n",
    "\n",
    "from config import stances\n",
    "from DB_connection import DB_connection\n",
    "from llm_labeling import VideoClassification, BatchClassification, build_prompt, query_llm, get_langchain_llm\n",
    "\n",
    "\n",
    "load_dotenv()\n",
    "\n",
    "\n",
    "OPEN_ROUTER_API_KEY = os.getenv(\"OPEN_ROUTER_API_KEY\")\n",
    "db_connection = DB_connection()"
   ]
  },
  {
   "cell_type": "markdown",
   "id": "aaa95a20",
   "metadata": {},
   "source": [
    "# 1. Functions"
   ]
  },
  {
   "cell_type": "markdown",
   "id": "8dc75d57",
   "metadata": {},
   "source": [
    "## 1.1. Create Tables"
   ]
  },
  {
   "cell_type": "code",
   "execution_count": 2,
   "id": "5c43d904",
   "metadata": {},
   "outputs": [],
   "source": [
    "def create_compare_video_annotations_table():\n",
    "    try:\n",
    "        query = \"\"\"\n",
    "                SELECT * FROM compare_video_annotations\n",
    "                \"\"\"\n",
    "        db_connection.select(query)\n",
    "    except:\n",
    "        query = \"\"\"\n",
    "                SELECT video_youtube_id,title,description,channel_title,transcript FROM annoted_videos \n",
    "                \"\"\"\n",
    "        videos = db_connection.select(query)\n",
    "        videos = videos.sample(n=380, random_state=42).reset_index(drop=True)\n",
    "        videos['true_label'] = None\n",
    "        videos = videos.rename(columns={\n",
    "                \"channel_title\": \"channel_name\"})\n",
    "        \n",
    "        \n",
    "\n",
    "        annotated_videos = pd.read_csv('../data/annotated_videos.csv')\n",
    "        annotated_videos = annotated_videos.rename(columns={\n",
    "                \"video_id\":\"video_youtube_id\",\n",
    "                \"stance\": \"true_label\",\n",
    "                \"transcript_text\": \"transcript\",\n",
    "        })\n",
    "        annotated_videos = annotated_videos.drop(columns=\"stance_code\")\n",
    "\n",
    "        all_columns = set(videos.columns).union(set(annotated_videos.columns))\n",
    "        videos = videos.reindex(columns=all_columns)\n",
    "        annotated_videos = annotated_videos.reindex(columns=all_columns)\n",
    "\n",
    "        all_videos = pd.concat([videos, annotated_videos], ignore_index=True)\n",
    "        column_order = [\"video_youtube_id\", \"title\", \"description\", \"channel_name\", \"transcript\", \"true_label\"]\n",
    "        all_videos = all_videos.reindex(columns=column_order)\n",
    "\n",
    "        db_connection.save_df(all_videos, 'compare_video_annotations')\n",
    " \n",
    "\n",
    "def create_compare_llms_tables():\n",
    "    try:\n",
    "        query = \"\"\"\n",
    "                SELECT * FROM llm_comparison\n",
    "                \"\"\"\n",
    "        db_connection.select(query)\n",
    "    except:\n",
    "        query = \"\"\" CREATE TABLE llm_comparison(\n",
    "                llm_name TEXT,\n",
    "                llm_full_name TEXT,\n",
    "                batch_size INT,\n",
    "                accuracy FLOAT,\n",
    "                precision FLOAT,\n",
    "                recall FLOAT,\n",
    "                running_time FLOAT,\n",
    "                cost FLOAT\n",
    "                )\"\"\"\n",
    "        db_connection.create_table(query)\n",
    "\n",
    "    \n",
    "create_compare_video_annotations_table()\n",
    "create_compare_llms_tables()\n",
    "\n",
    "    \n"
   ]
  },
  {
   "cell_type": "markdown",
   "id": "b27be9f1",
   "metadata": {},
   "source": [
    "## 1.2. Open router costs"
   ]
  },
  {
   "cell_type": "code",
   "execution_count": 3,
   "id": "37933b7c",
   "metadata": {},
   "outputs": [],
   "source": [
    "def get_usage_openrouter():\n",
    "    resp = requests.get(\n",
    "        \"https://openrouter.ai/api/v1/credits\",\n",
    "        headers={\"Authorization\": f\"Bearer {OPEN_ROUTER_API_KEY}\"},\n",
    "        timeout=30,\n",
    "    )\n",
    "    data = resp.json()[\"data\"]\n",
    "    return data[\"total_usage\"]\n"
   ]
  },
  {
   "cell_type": "markdown",
   "id": "8d6bb305",
   "metadata": {},
   "source": [
    "## 1.3. LLM annotation"
   ]
  },
  {
   "cell_type": "code",
   "execution_count": null,
   "id": "b8425d7c",
   "metadata": {},
   "outputs": [
    {
     "name": "stderr",
     "output_type": "stream",
     "text": [
      "100%|██████████| 50/50 [07:32<00:00,  9.05s/it]"
     ]
    },
    {
     "name": "stdout",
     "output_type": "stream",
     "text": [
      "Accuracy for mistralai/mistral-small-3.2-24b-instruct: 0.87\n"
     ]
    },
    {
     "name": "stderr",
     "output_type": "stream",
     "text": [
      "\n"
     ]
    }
   ],
   "source": [
    "def ensure_unique_column( base_name: str) -> str:\n",
    "    # Get existing columns\n",
    "    existing = set(db_connection.select(\"PRAGMA table_info(compare_video_annotations);\")[\"name\"])\n",
    "    if base_name not in existing:\n",
    "        col = base_name\n",
    "    else:\n",
    "        # Find smallest suffix not yet used\n",
    "        k = 1\n",
    "        while f\"{base_name}_{k}\" in existing:\n",
    "            k += 1\n",
    "        col = f\"{base_name}_{k}\"\n",
    "    # Add the column safely (quote the identifier)\n",
    "    db_connection.execute_query(f'ALTER TABLE compare_video_annotations ADD COLUMN \"{col}\" TEXT')\n",
    "    return col\n",
    "\n",
    "def annotate_by_batch(llm_structured, column_name, batch_size=10):\n",
    "    \n",
    "    videos = db_connection.select(\"SELECT * FROM compare_video_annotations\")\n",
    "    \n",
    "\n",
    "    for i in tqdm(range(batch_size, len(videos), batch_size)):\n",
    "        batch = videos.iloc[i:i+batch_size]\n",
    "        #print(batch)\n",
    "        try:\n",
    "            prompt = build_prompt(batch,True)\n",
    "            response = query_llm(prompt,llm_structured)\n",
    "        except:\n",
    "            prompt = build_prompt(batch,False)\n",
    "            response =query_llm(prompt,llm_structured)\n",
    "        \n",
    "        for item in response.items:\n",
    "            #print(f\"Video ID: {item.video_id}, Label: {item.label}\")\n",
    "\n",
    "            query = f\"\"\"\n",
    "                UPDATE compare_video_annotations\n",
    "                SET {column_name} = ? \n",
    "                WHERE video_youtube_id = ?;\n",
    "            \"\"\"    \n",
    "            cursor = db_connection.connection.cursor()\n",
    "            cursor.execute(query,(item.label, item.video_id))\n",
    "        db_connection.connection.commit()\n",
    "\n",
    "\n",
    "def get_accuracy(column_name):\n",
    "    query = f\"\"\" SELECT * \n",
    "                 FROM compare_video_annotations \n",
    "                 WHERE true_label IS NOT NULL \n",
    "                 AND {column_name} IS NOT 'Undefined';\"\"\"\n",
    "    df = db_connection.select(query)\n",
    "\n",
    "    correct = (df[column_name] == df[\"true_label\"]).sum()\n",
    "    total = len(df)\n",
    "    accuracy = correct / total\n",
    "\n",
    "    return accuracy\n",
    "\n",
    "    \n",
    "\n",
    "def label_with_one_llm(full_model_name, column_name, batch_size=10):\n",
    "    column_name = column_name +f\"_batch_size_{batch_size}\"\n",
    "    column_name = ensure_unique_column(column_name)\n",
    "\n",
    "    start_usage = get_usage_openrouter()\n",
    "\n",
    "    start_time = time.time()\n",
    "    llm = get_langchain_llm(\"openrouter\", full_model_name)\n",
    "    llm_structured = llm.with_structured_output(BatchClassification)\n",
    "    annotate_by_batch(llm_structured,column_name,batch_size)\n",
    "    end_time = time.time()\n",
    "    running_time = end_time - start_time\n",
    "\n",
    "    end_usage = get_usage_openrouter()\n",
    "    cost = (end_usage - start_usage) \n",
    "\n",
    "    accuracy = get_accuracy(column_name)\n",
    "    print(f\"Accuracy for {full_model_name}: {accuracy:.2f}\")\n",
    "    query = f\"\"\"\n",
    "            INSERT INTO llm_comparison (llm_name, llm_full_name, batch_size, accuracy, running_time, cost)\n",
    "            VALUES (?, ?, ?, ?, ?, ?)\n",
    "            \"\"\"\n",
    "    cursor = db_connection.connection.cursor()\n",
    "    cursor.execute(query, (column_name, full_model_name, batch_size, accuracy, running_time, cost))\n",
    "    db_connection.connection.commit()\n",
    "\n",
    "\n",
    "    \n",
    "label_with_one_llm(\"mistralai/mistral-small-3.2-24b-instruct\",\"mistralai_small\",10)\n",
    "\n",
    "    \n",
    "   \n"
   ]
  },
  {
   "cell_type": "code",
   "execution_count": 45,
   "id": "d137b6b9",
   "metadata": {},
   "outputs": [
    {
     "name": "stdout",
     "output_type": "stream",
     "text": [
      "['video_id', 'title', 'description', 'channel_name', 'transcript', 'true_label']\n"
     ]
    }
   ],
   "source": [
    "print(list(db_connection.select(\"PRAGMA table_info(compare_video_annotations);\")[\"name\"]))"
   ]
  },
  {
   "cell_type": "code",
   "execution_count": null,
   "id": "ea0f69cf",
   "metadata": {},
   "outputs": [],
   "source": []
  }
 ],
 "metadata": {
  "kernelspec": {
   "display_name": ".venv",
   "language": "python",
   "name": "python3"
  },
  "language_info": {
   "codemirror_mode": {
    "name": "ipython",
    "version": 3
   },
   "file_extension": ".py",
   "mimetype": "text/x-python",
   "name": "python",
   "nbconvert_exporter": "python",
   "pygments_lexer": "ipython3",
   "version": "3.9.12"
  }
 },
 "nbformat": 4,
 "nbformat_minor": 5
}
